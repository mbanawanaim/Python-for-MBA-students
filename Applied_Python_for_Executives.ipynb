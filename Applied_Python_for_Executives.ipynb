{
  "nbformat": 4,
  "nbformat_minor": 5,
  "metadata": {
    "noteable-chatgpt": {
      "create_notebook": {
        "openai_conversation_id": "68b81b9d-e300-5bda-90fd-3f41890a2be5",
        "openai_ephemeral_user_id": "1f263eab-aa9b-57df-9533-a4520f67019d",
        "openai_subdivision1_iso_code": "PH-00"
      }
    },
    "kernel_info": {
      "name": "python3"
    },
    "kernelspec": {
      "display_name": "Python 3.9",
      "language": "python",
      "name": "python3"
    },
    "selected_hardware_size": "small"
  },
  "cells": [
    {
      "id": "10b1174b-de27-4aa5-b1e8-39648937247d",
      "cell_type": "markdown",
      "source": "# I. Introduction to Programming and Python\n\n## A. What is programming?\nProgramming is the process of creating a set of instructions that tell a computer how to perform a task. It's like writing a recipe: you provide the steps (instructions) for the computer to follow in order to produce a desired outcome.\n\n## B. Why Python is a popular choice for beginners and business applications.\nPython is a versatile, high-level programming language that is easy to read and write. Its simplicity makes it a popular choice for beginners. Moreover, Python has a wide range of libraries and frameworks that make it suitable for various business applications, including data analysis, web development, and machine learning.\n\n## C. Overview of Python's simplicity and versatility.\nPython's syntax is clear and intuitive, which makes it a great language for beginners. It's also a dynamically typed language, which means you don't have to declare the type of a variable when you create it. Python is also versatile: it can be used for web development, data analysis, artificial intelligence, scientific computing, and more.",
      "metadata": {
        "noteable": {
          "cell_type": "markdown"
        }
      }
    },
    {
      "id": "3eba045b-f28b-431a-b245-39d64271ac60",
      "cell_type": "markdown",
      "source": "# II. Setting Up Python Environment\n\n## A. Installing Python and an Integrated Development Environment (IDE).\nTo start with Python programming, one needs to have Python installed on their computer. There are various distributions of Python, but the official one can be downloaded from [Python's official website](https://www.python.org/downloads/). Once installed, you can use Python's default IDE, IDLE, or opt for other popular IDEs like PyCharm, Visual Studio Code, or Jupyter Notebook for a more enhanced programming experience.\n\n## B. Running a simple \"Hello World\" program.\nOnce Python is installed, you can write and execute your first program. A traditional first program in any language is the \"Hello World\" program. In Python, it's as simple as:\n```python\nprint(\"Hello World\")\n```\nThis program, when run, will display the message 'Hello World' on the screen.",
      "metadata": {
        "noteable": {
          "cell_type": "markdown"
        }
      }
    },
    {
      "id": "68ae3773-1d8d-4ef3-9979-6f4a5b530d15",
      "cell_type": "markdown",
      "source": "# III. Python Fundamentals\n\n## A. Variables and data types (integers, floats, strings, booleans).\nIn Python, a variable is a name that refers to a value. The value can be of various types like numbers (integers, floats), text (strings), or logical values (booleans: True or False). For example:\n```python\nage = 30           # integer\nheight = 5.9       # float\nname = \"John\"      # string\nis_student = False # boolean\n```\nEach of these variables holds a value of a specific data type.\n\n## B. Basic arithmetic operations.\nPython supports basic arithmetic operations like addition, subtraction, multiplication, and division. For instance:\n```python\na = 10\nb = 20\nsum = a + b       # addition\ndifference = b - a # subtraction\n```\nThese operations can be used to perform calculations on numerical data.\n\n## C. Input and output using the print() and input() functions.\nThe `print()` function is used to display information on the screen, while the `input()` function allows you to take input from the user. For example:\n```python\nname = input(\"Enter your name: \")\nprint(\"Hello, \" + name + \"!\")\n```\nIn this example, the user is prompted to enter their name, which is then greeted with a personalized message.\n\n## D. String manipulation and formatting.\nStrings in Python can be manipulated in various ways, such as concatenation, slicing, and formatting. For instance:\n```python\nmessage = \"Python is \" + \"awesome!\"\nsubstring = message[0:6]  # extracts 'Python'\nformatted = f\"Learning {message}\"\n```\nThese techniques allow for dynamic creation and modification of text data.",
      "metadata": {
        "noteable": {
          "cell_type": "markdown"
        }
      }
    },
    {
      "id": "0ae96f70-0c0b-4d0a-8a3d-1350b5112dcd",
      "cell_type": "markdown",
      "source": "# IV. Control Flow\n\n## A. Introduction to if-else statements.\nIn programming, often we need to make decisions based on certain conditions. The `if-else` statement allows us to execute a block of code if a specified condition is true, and another block if it's false. For example:\n```python\nbalance = 100\nif balance > 0:\n    print(\"You have funds available.\")\nelse:\n    print(\"Your balance is zero or negative.\")\n```\nIn this example, the message displayed depends on the value of the `balance` variable.\n\n## B. Using loops (for and while) to repeat tasks.\nLoops are used to execute a block of code repeatedly. Python supports two main types of loops: `for` and `while`. For instance:\n```python\nfor i in range(5):\n    print(i)\n\ncount = 0\nwhile count < 5:\n    print(count)\n    count += 1\n```\nThe `for` loop in the example runs 5 times, printing numbers from 0 to 4, while the `while` loop runs until the `count` variable is less than 5.",
      "metadata": {
        "noteable": {
          "cell_type": "markdown"
        }
      }
    },
    {
      "id": "8380c839-c63e-48e5-b4ba-bfbeac9726f9",
      "cell_type": "markdown",
      "source": "# Fintech or Business Management Perspective\n\nNow that we've covered some basic Python concepts, let's look at how these can be applied in a fintech or business management context.\n\n## Exercise: Loan Eligibility Checker\nImagine you're working for a fintech company that offers personal loans. You need to create a simple program to check if a customer is eligible for a loan based on their age and monthly income.\n\n### Criteria:\n1. Age should be between 18 and 65.\n2. Monthly income should be above $1,000.\n\nWrite a Python program that takes the age and monthly income as input and displays whether the customer is eligible for a loan or not.\n\n### Answer Key:\n```python\nage = int(input(\"Enter your age: \"))\nincome = float(input(\"Enter your monthly income: \"))\n\nif 18 <= age <= 65 and income > 1000:\n    print(\"You are eligible for a loan.\")\nelse:\n    print(\"You are not eligible for a loan.\")\n```\n\nThis exercise demonstrates the practical application of Python's if-else statements in a fintech context. Similar logic can be extended to more complex financial products and services.",
      "metadata": {
        "noteable": {
          "cell_type": "markdown"
        }
      }
    },
    {
      "id": "c8eee84a-3fdf-4b75-96b1-fc50b799eec8",
      "cell_type": "markdown",
      "source": "# Tying It All Together\n\nThroughout this notebook, we've introduced you to the basics of Python programming and its application in a fintech context. Here's a recap of the concepts covered:\n\n1. **Introduction to Programming and Python**: We discussed what programming is and why Python is a popular choice for both beginners and business applications.\n2. **Setting Up Python Environment**: We covered how to install Python and run a simple program.\n3. **Python Fundamentals**: We delved into variables, data types, basic arithmetic operations, and string manipulation.\n4. **Control Flow**: We introduced decision-making using if-else statements and repetitive tasks using loops.\n5. **Fintech Application**: We provided a practical exercise on loan eligibility, demonstrating how Python can be used in real-world fintech scenarios.\n\nWith these foundational concepts, you're well on your way to exploring more advanced topics in Python and its applications in fintech and business management. Remember, practice is key to mastering programming. So, keep coding and exploring real-world applications to enhance your skills!",
      "metadata": {
        "noteable": {
          "cell_type": "markdown"
        }
      }
    }
  ]
}