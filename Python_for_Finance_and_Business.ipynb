{
  "nbformat": 4,
  "nbformat_minor": 5,
  "metadata": {
    "noteable-chatgpt": {
      "create_notebook": {
        "openai_conversation_id": "68b81b9d-e300-5bda-90fd-3f41890a2be5",
        "openai_ephemeral_user_id": "1f263eab-aa9b-57df-9533-a4520f67019d",
        "openai_subdivision1_iso_code": "PH-00"
      }
    },
    "kernel_info": {
      "name": "python3"
    },
    "kernelspec": {
      "display_name": "Python 3.9",
      "language": "python",
      "name": "python3"
    },
    "selected_hardware_size": "small"
  },
  "cells": [
    {
      "id": "abfa6189-7952-4100-b3d1-8225ef50fa67",
      "cell_type": "markdown",
      "source": "# I. Data Structures\n\n## A. Lists\n### Concept:\nA list is a collection of items that can be of any data type. Lists are ordered, mutable (changeable), and allow duplicate values.\n\n### Syntax:\n```python\nlist_name = [item1, item2, item3, ...]\n```\n\n### Examples:\n```python\nfruits = ['apple', 'banana', 'cherry']\nnumbers = [1, 2, 3, 4, 5]\nmixed_data = ['apple', 2, 3.5, True]\n```\n\n### Common Operations:\n- Accessing elements: `list_name[index]`\n- Adding an element: `list_name.append(item)`\n- Removing an element: `list_name.remove(item)`\n- Finding the length: `len(list_name)`\n\n### Exercise:\nCreate a list of 5 stock names. Add a new stock to the list and print the updated list.",
      "metadata": {
        "noteable": {
          "cell_type": "markdown"
        }
      }
    },
    {
      "id": "f0fdda15-c113-44f8-acc5-06bd4cfba842",
      "cell_type": "code",
      "metadata": {
        "noteable": {
          "cell_type": "code"
        }
      },
      "execution_count": null,
      "source": "# Exercise Solution\nstocks = ['Apple', 'Microsoft', 'Tesla', 'Amazon', 'Google']\nstocks.append('Netflix')\nstocks",
      "outputs": []
    },
    {
      "id": "08d2ff65-4537-43eb-98e3-0e1e455ba8a7",
      "cell_type": "markdown",
      "source": "## B. Tuples\n### Concept:\nA tuple is similar to a list, but unlike lists, tuples are immutable, meaning their values cannot be modified after creation.\n\n### Syntax:\n```python\ntuple_name = (item1, item2, item3, ...)\n```\n\n### Examples:\n```python\nfruits = ('apple', 'banana', 'cherry')\ncoordinates = (4, 5)\n```\n\n### Exercise:\nCreate a tuple containing the names of 3 currencies. Print the first currency from the tuple.",
      "metadata": {
        "noteable": {
          "cell_type": "markdown"
        }
      }
    },
    {
      "id": "c832fcd0-6884-4fed-a616-d05033dfde89",
      "cell_type": "code",
      "metadata": {
        "noteable": {
          "cell_type": "code"
        }
      },
      "execution_count": null,
      "source": "# Exercise Solution\ncurrencies = ('USD', 'EUR', 'JPY')\ncurrencies[0]",
      "outputs": []
    },
    {
      "id": "4fcae87f-567e-4f3c-803e-2ad25df877a3",
      "cell_type": "markdown",
      "source": "## C. Dictionaries\n### Concept:\nA dictionary is an unordered collection of data in a key:value pair form. Here, keys are unique and used to access values.\n\n### Syntax:\n```python\ndict_name = {\n    'key1': 'value1',\n    'key2': 'value2',\n    ...\n}\n```\n\n### Examples:\n```python\nperson = {\n    'name': 'John',\n    'age': 30,\n    'is_student': False\n}\n```\n\n### Exercise:\nCreate a dictionary representing a stock, with keys for the stock's name, ticker symbol, and current price. Access and print the stock's current price.",
      "metadata": {
        "noteable": {
          "cell_type": "markdown"
        }
      }
    },
    {
      "id": "88bb4193-9838-4384-80d8-4b00bbfee9cc",
      "cell_type": "code",
      "metadata": {
        "noteable": {
          "cell_type": "code"
        }
      },
      "execution_count": null,
      "source": "# Exercise Solution\nstock = {\n    'name': 'Apple Inc.',\n    'ticker': 'AAPL',\n    'price': 150.25\n}\nstock['price']",
      "outputs": []
    },
    {
      "id": "dd91783d-c56e-414a-bcb2-dc09a6f3cbae",
      "cell_type": "markdown",
      "source": "## D. Sets\n### Concept:\nA set is an unordered collection of unique items. Sets are used to eliminate duplicate values and perform mathematical set operations like union, intersection, etc.\n\n### Syntax:\n```python\nset_name = {item1, item2, ...}\n```\n\n### Examples:\n```python\nfruits = {'apple', 'banana', 'cherry', 'apple'}\n```\nIn the above example, even though 'apple' is mentioned twice, the set will only contain one 'apple' as sets don't allow duplicate values.\n\n### Exercise:\nCreate a set of stock ticker symbols. Add a new ticker to the set and print the updated set.",
      "metadata": {
        "noteable": {
          "cell_type": "markdown"
        }
      }
    },
    {
      "id": "5ba7ff4a-a63a-4c54-8a90-35740993dbe3",
      "cell_type": "code",
      "metadata": {
        "noteable": {
          "cell_type": "code"
        }
      },
      "execution_count": null,
      "source": "# Exercise Solution\ntickers = {'AAPL', 'MSFT', 'TSLA', 'GOOGL'}\ntickers.add('NFLX')\ntickers",
      "outputs": []
    },
    {
      "id": "9fb1fc44-e9dd-4849-ae9d-251aa0bda8bb",
      "cell_type": "markdown",
      "source": "# II. File Handling\n\n## A. Reading data from files\n### Concept:\nPython provides built-in functions to read data from files. This is useful when you have data stored in files and want to process or analyze it using Python.\n\n### Syntax:\n```python\nwith open('filename.txt', 'r') as file:\n    content = file.read()\n```\n\n### Exercise:\nCreate a text file named 'sample.txt' with some text. Write a Python program to read the content of the file and print it.\n\n## B. Writing data to files\n### Concept:\nJust as you can read data from files, you can also write data to files using Python.\n\n### Syntax:\n```python\nwith open('filename.txt', 'w') as file:\n    file.write('Some text')\n```\n\n### Exercise:\nWrite a Python program to store a list of stock names in a text file.\n\n## C. Error handling using try-except blocks\n### Concept:\nWhen working with files, errors can occur, such as the file not being found. Python provides the `try-except` block to handle such exceptions gracefully.\n\n### Syntax:\n```python\ntry:\n    # code that might raise an exception\nexcept ExceptionType:\n    # code to handle the exception\n```\n\n### Exercise:\nWrite a Python program to read a file that doesn't exist and handle the error gracefully by printing a user-friendly message.",
      "metadata": {
        "noteable": {
          "cell_type": "markdown"
        }
      }
    },
    {
      "id": "81d1d4bb-cc85-4ce0-a167-a44b4224fc84",
      "cell_type": "code",
      "metadata": {
        "noteable": {
          "cell_type": "code"
        }
      },
      "execution_count": null,
      "source": "# Exercise Solution for Reading data from files\n\n# Creating a sample text file named 'sample.txt'\nwith open('sample.txt', 'w') as file:\n    file.write('This is a sample text file for demonstration purposes.')\n\n# Reading the content of the file and printing it\nwith open('sample.txt', 'r') as file:\n    content = file.read()\ncontent",
      "outputs": []
    },
    {
      "id": "f3649cae-2e80-4bcd-b478-8a7bc925313f",
      "cell_type": "code",
      "metadata": {
        "noteable": {
          "cell_type": "code"
        }
      },
      "execution_count": null,
      "source": "# Exercise Solution for Writing data to files\n\nstocks = ['Apple', 'Microsoft', 'Tesla', 'Amazon', 'Google']\n\n# Storing the list of stock names in a text file named 'stocks.txt'\nwith open('stocks.txt', 'w') as file:\n    for stock in stocks:\n        file.write(stock + '\\n')\n\n# Verifying the content of the file\nwith open('stocks.txt', 'r') as file:\n    stock_content = file.readlines()\nstock_content",
      "outputs": []
    },
    {
      "id": "9b583db8-1509-4f4c-a5c0-fe1a09f64b2b",
      "cell_type": "code",
      "metadata": {
        "noteable": {
          "cell_type": "code"
        }
      },
      "execution_count": null,
      "source": "# Exercise Solution for Error handling using try-except blocks\n\ntry:\n    with open('non_existent_file.txt', 'r') as file:\n        content = file.read()\nexcept FileNotFoundError:\n    content = 'The file does not exist. Please check the filename and try again.'\ncontent",
      "outputs": []
    },
    {
      "id": "d7290a75-f50c-4c19-b48d-25baf8698412",
      "cell_type": "markdown",
      "source": "# III. Functions\n\n## A. Introduction to functions\n### Concept:\nA function is a block of organized, reusable code that performs a specific task. Functions help break our program into smaller and modular chunks, making it more organized and manageable.\n\n### Syntax:\n```python\ndef function_name(parameters):\n    # function body\n    return value\n```\n\n### Exercise:\nWrite a function that calculates the average of a list of stock prices and returns the average.\n\n## B. Creating and using functions with parameters and return values\n### Concept:\nFunctions can take parameters, which are values you supply to the function so it can perform a task based on those values. Functions can also return values to the caller.\n\n### Exercise:\nWrite a function that takes a list of stock prices and a threshold value. The function should return all stock prices above the threshold.\n\n## C. Writing reusable and modular code\n### Concept:\nFunctions promote code reusability. Once a function is defined, it can be used multiple times in a program or even in other programs, promoting modularity.\n\n### Exercise:\nWrite a function that calculates the compound interest for a given principal amount, rate of interest, and number of years. Use the formula:\n\nCompound Interest = P(1 + r/n)^(nt) - P\n\nWhere:\nP = principal amount\nr = annual interest rate (decimal)\nn = number of times interest is compounded per year\nt = number of years",
      "metadata": {
        "noteable": {
          "cell_type": "markdown"
        }
      }
    },
    {
      "id": "40b7a50e-39d3-4de5-bc9c-8cfa5e98d579",
      "cell_type": "code",
      "metadata": {
        "noteable": {
          "cell_type": "code"
        }
      },
      "execution_count": null,
      "source": "# Exercise Solution for Introduction to functions\n\ndef calculate_average(prices):\n    return sum(prices) / len(prices)\n\n# Test the function\nstock_prices = [150.25, 200.50, 175.75, 210.10]\naverage_price = calculate_average(stock_prices)\naverage_price",
      "outputs": []
    },
    {
      "id": "ab5231d6-5028-404c-9ccd-66dffd78d7a7",
      "cell_type": "code",
      "metadata": {
        "noteable": {
          "cell_type": "code"
        }
      },
      "execution_count": null,
      "source": "# Exercise Solution for Creating and using functions with parameters and return values\n\ndef filter_stocks(prices, threshold):\n    return [price for price in prices if price > threshold]\n\n# Test the function\nthreshold_value = 180\nfiltered_prices = filter_stocks(stock_prices, threshold_value)\nfiltered_prices",
      "outputs": []
    },
    {
      "id": "d8706b19-bbbd-4043-967c-d4833a1e986b",
      "cell_type": "code",
      "metadata": {
        "noteable": {
          "cell_type": "code"
        }
      },
      "execution_count": null,
      "source": "# Exercise Solution for Writing reusable and modular code\n\ndef calculate_compound_interest(P, r, n, t):\n    return P * (1 + r/n)**(n*t) - P\n\n# Test the function\nprincipal = 1000  # Initial amount\nrate = 0.05  # 5% annual interest rate\ncompounds_per_year = 4  # Quarterly compounding\nyears = 5\n\ninterest = calculate_compound_interest(principal, rate, compounds_per_year, years)\ninterest",
      "outputs": []
    },
    {
      "id": "e92019ce-cd3c-42c1-9fc2-69277949865b",
      "cell_type": "markdown",
      "source": "# Tying It All Together: Finance or Business Management Use Case\n\nWith the foundational Python concepts you've learned, you can now apply them to real-world finance or business management scenarios. Let's consider a use case:\n\n## Portfolio Management\n\nImagine you are a portfolio manager, and you have a list of stocks with their respective prices and quantities. You want to calculate the total value of your portfolio, identify stocks that have prices above a certain threshold, and also calculate the compound interest you'd earn if you were to invest a portion of your portfolio in a fixed deposit.\n\n### Tasks:\n1. Using the list and dictionary data structures, represent your portfolio of stocks with their prices and quantities.\n2. Calculate the total value of your portfolio.\n3. Identify and list stocks that have prices above a certain threshold.\n4. Calculate the compound interest you'd earn from a fixed deposit investment over a certain period.\n\nBy integrating the Python concepts of data structures (lists, dictionaries) and functions, you can efficiently manage and analyze your financial portfolio, making informed investment decisions.",
      "metadata": {
        "noteable": {
          "cell_type": "markdown"
        }
      }
    },
    {
      "id": "de452064-fff5-4a05-9ebc-ee6b05b703f3",
      "cell_type": "markdown",
      "source": "# III. Functions\n\n## A. Introduction to functions and their benefits\n### Concept:\nA function is a block of reusable code that performs a specific task. Functions provide better modularity for your application and allow for code reusability.\n\n### Syntax:\n```python\ndef function_name(parameters):\n    # function body\n    return value\n```\n\n### Exercise:\nWrite a function that calculates the compound interest for a given principal amount, rate of interest, and number of years.\n\n## B. Creating and using functions with parameters and return values\n### Concept:\nFunctions can take parameters, which are values you supply to the function so it can perform a task based on those values. Functions can also return values to the caller.\n\n### Exercise:\nWrite a function that takes a list of numbers and returns their average.\n\n## C. Writing reusable and modular code\n### Concept:\nFunctions allow for code reusability and modularity. Instead of writing the same code multiple times, you can create a function and call it whenever needed.\n\n### Exercise:\nWrite a function that takes a list of stock prices and returns the highest and lowest prices.",
      "metadata": {
        "noteable": {
          "cell_type": "markdown"
        }
      }
    },
    {
      "id": "73fb0a74-4345-40a3-b238-30c16a65ff37",
      "cell_type": "code",
      "metadata": {
        "noteable": {
          "cell_type": "code"
        }
      },
      "execution_count": null,
      "source": "# Exercise Solution for Compound Interest\n\ndef compound_interest(principal, rate, time, n=1):\n    \"\"\"\n    Calculate compound interest.\n\n    Parameters:\n    - principal (float): Initial amount of money\n    - rate (float): Annual interest rate (in decimal form; 5% = 0.05)\n    - time (float): Time the money is invested for, in years\n    - n (int, optional): Number of times interest is compounded per year. Default is 1.\n\n    Returns:\n    - float: Compound interest\n    \"\"\"\n    return principal * ((1 + rate/n)**(n*time)) - principal\n\n# Test the function\ncompound_interest(1000, 0.05, 5)",
      "outputs": []
    },
    {
      "id": "fedca327-8bd2-40cb-b4a9-1d2a0a7e604e",
      "cell_type": "code",
      "metadata": {
        "noteable": {
          "cell_type": "code"
        }
      },
      "execution_count": null,
      "source": "# Exercise Solution for Average of Numbers\n\ndef average(numbers):\n    \"\"\"\n    Calculate the average of a list of numbers.\n\n    Parameters:\n    - numbers (list): List of numbers\n\n    Returns:\n    - float: Average of the numbers\n    \"\"\"\n    return sum(numbers) / len(numbers)\n\n# Test the function\naverage([10, 20, 30, 40, 50])",
      "outputs": []
    },
    {
      "id": "e963187e-afcc-41af-9ec6-8f0863f37dc4",
      "cell_type": "code",
      "metadata": {
        "noteable": {
          "cell_type": "code"
        }
      },
      "execution_count": null,
      "source": "# Exercise Solution for Highest and Lowest Stock Prices\n\ndef stock_range(prices):\n    \"\"\"\n    Find the highest and lowest prices from a list of stock prices.\n\n    Parameters:\n    - prices (list): List of stock prices\n\n    Returns:\n    - tuple: Highest and lowest prices\n    \"\"\"\n    return max(prices), min(prices)\n\n# Test the function\nstock_range([150.25, 152.85, 149.50, 153.75, 151.30])",
      "outputs": []
    },
    {
      "id": "3aca80b7-fb9b-4405-bc9c-f8d36bf58898",
      "cell_type": "markdown",
      "source": "# Tying It All Together: Finance and Business Management Perspective\n\nUnderstanding and utilizing data structures in Python can significantly enhance the efficiency and effectiveness of financial and business operations. Here's how:\n\n- **Lists and Tuples**: These can be used to store and manage time-series data, such as stock prices over a period. By efficiently accessing and manipulating this data, financial analysts can make informed decisions.\n\n- **Dictionaries**: These are crucial for storing structured data, like company profiles, where each company can have multiple attributes (name, stock price, market cap, etc.).\n\n- **Sets**: Useful in scenarios where unique items are of importance, like a set of unique customers or unique stock tickers.\n\n- **File Handling**: Financial data is often stored in files. Being able to read, process, and write data is fundamental for financial analysis. For instance, reading historical stock prices from a file, analyzing them, and then writing the results back to another file.\n\n- **Functions**: Custom functions can be written to perform specific financial calculations, making the code reusable and modular. For instance, a function to calculate the Net Present Value (NPV) or Compound Annual Growth Rate (CAGR) can be reused across different projects.\n\nBy integrating these Python concepts with financial and business management principles, professionals can automate tasks, derive insights from data, and make strategic decisions.",
      "metadata": {
        "noteable": {
          "cell_type": "markdown"
        }
      }
    },
    {
      "id": "75ad34bd-d0d1-452c-b40e-808eb1fec457",
      "cell_type": "markdown",
      "source": "# Machine Problem: Financial Analysis of Company Profiles\n\nAs a fintech executive, you have been provided with a dataset containing profiles of various companies. Each company profile contains the company's name, stock ticker, current stock price, previous stock price, and market capitalization.\n\nYour task is to:\n1. Read the dataset from a file named 'company_profiles.txt'.\n2. Calculate the percentage change in stock price for each company.\n3. Identify and list companies that have experienced a stock price increase.\n4. Calculate the average percentage change in stock price for all companies.\n5. Write the results, including company names and their respective percentage changes, to a new file named 'stock_analysis.txt'.\n\nNote: The dataset is structured as a list of dictionaries, where each dictionary represents a company profile. The percentage change in stock price can be calculated as `((current price - previous price) / previous price) * 100`.",
      "metadata": {
        "noteable": {
          "cell_type": "markdown"
        }
      }
    }
  ]
}