{
  "cells": [
    {
      "cell_type": "markdown",
      "source": [
        "# Introduction to pandas\n",
        "\n",
        "pandas is a powerful and flexible open-source data analysis and manipulation library for Python. It provides data structures for efficiently storing large datasets and tools for reshaping, aggregating, and analyzing the data.\n",
        "\n",
        "## Key Features of pandas:\n",
        "- Data structures for 1D (`Series`) and 2D (`DataFrame`) data.\n",
        "- Tools for reading and writing data from various formats (CSV, Excel, SQL databases, etc.).\n",
        "- Data alignment and missing data handling.\n",
        "- Reshaping and pivoting datasets.\n",
        "- Label-based slicing, indexing, and subsetting.\n",
        "- Grouping and aggregation.\n",
        "- High-performance merging and joining of data.\n",
        "- Time series functionality.\n",
        "\n",
        "In this notebook, we'll explore the basic functionalities of pandas, along with sample code snippets and exercises to reinforce the concepts."
      ],
      "metadata": {
        "noteable": {
          "cell_type": "markdown"
        }
      },
      "id": "ce524eef-93ca-4016-821f-76c147d0945e"
    },
    {
      "cell_type": "markdown",
      "source": [
        "## 1. pandas Data Structures\n",
        "\n",
        "### A. Series\n",
        "\n",
        "A `Series` is a one-dimensional labeled array capable of holding any data type (integers, strings, floating point numbers, Python objects, etc.). It is akin to a column in a spreadsheet or a dataset in R. The basic method to create a series is `pd.Series(data, index=index)`, where `data` can be many different things, and `index` is a list of axis labels.\n",
        "\n",
        "### B. DataFrame\n",
        "\n",
        "A `DataFrame` is a two-dimensional labeled data structure with columns that can be of different types, similar to a spreadsheet, SQL table, or a dictionary of `Series` objects. It is generally understood as a table of data. You can think of it as an Excel spreadsheet or a SQL table. DataFrames can be created in various ways, one of the most common being from a dictionary of equal-length lists or NumPy arrays."
      ],
      "metadata": {
        "noteable": {
          "cell_type": "markdown"
        }
      },
      "id": "617eb96e-0782-479b-933c-be6f43318ee3"
    },
    {
      "cell_type": "code",
      "source": [
        "# Importing pandas library\n",
        "import pandas as pd\n",
        "\n",
        "# Sample Code: Series\n",
        "series_data = pd.Series([1, 2, 3, 4, 5], index=['a', 'b', 'c', 'd', 'e'])\n",
        "series_data"
      ],
      "outputs": [
        {
          "output_type": "display_data",
          "data": {
            "application/vnd.dataresource+json": {
              "schema": {
                "fields": [
                  {
                    "name": "index",
                    "type": "string"
                  },
                  {
                    "name": "0",
                    "type": "integer"
                  }
                ],
                "primaryKey": [
                  "index"
                ],
                "pandas_version": "1.4.0"
              },
              "data": [
                {
                  "0": 1,
                  "index": "a"
                },
                {
                  "0": 2,
                  "index": "b"
                },
                {
                  "0": 3,
                  "index": "c"
                },
                {
                  "0": 4,
                  "index": "d"
                },
                {
                  "0": 5,
                  "index": "e"
                }
              ],
              "datalink": {
                "display_id": "3d278407-0183-4c48-a736-55058b1bb980"
              }
            }
          },
          "metadata": {
            "application/vnd.dataresource+json": {
              "datalink": {
                "dataframe_info": {
                  "default_index_used": false,
                  "orig_size_bytes": 80,
                  "orig_num_rows": 5,
                  "orig_num_cols": 1,
                  "truncated_string_columns": [],
                  "truncated_size_bytes": 80,
                  "truncated_num_rows": 5,
                  "truncated_num_cols": 1
                },
                "dx_settings": {
                  "NUM_PAST_SAMPLES_TRACKED": 3,
                  "ENABLE_DATALINK": true,
                  "DISPLAY_MODE": "simple",
                  "GENERATE_DEX_METADATA": false,
                  "STRINGIFY_INDEX_VALUES": false,
                  "ALLOW_NOTEABLE_ATTRS": true,
                  "DISPLAY_MAX_COLUMNS": 100,
                  "HTML_TABLE_SCHEMA": false,
                  "SAMPLING_FACTOR": 0.1,
                  "LOG_LEVEL": 30,
                  "ENABLE_ASSIGNMENT": true,
                  "FLATTEN_INDEX_VALUES": false,
                  "DEV_MODE": false,
                  "COLUMN_SAMPLING_METHOD": "outer",
                  "FLATTEN_COLUMN_VALUES": true,
                  "DISPLAY_MAX_ROWS": 50000,
                  "ROW_SAMPLING_METHOD": "random",
                  "RANDOM_STATE": 12648430,
                  "DB_LOCATION": ":memory:",
                  "STRINGIFY_COLUMN_VALUES": true,
                  "SAMPLING_METHOD": "random",
                  "MAX_STRING_LENGTH": 250,
                  "MAX_RENDER_SIZE_BYTES": 104857600,
                  "RESET_INDEX_VALUES": false
                },
                "display_id": "3d278407-0183-4c48-a736-55058b1bb980",
                "applied_filters": [],
                "sample_history": [],
                "sampling_time": "2023-09-24T02:12:33.703090",
                "variable_name": "series_data",
                "user_variable_name": "series_data"
              },
              "display_id": "3d278407-0183-4c48-a736-55058b1bb980"
            }
          }
        }
      ],
      "execution_count": null,
      "metadata": {
        "noteable": {
          "cell_type": "code"
        },
        "ExecuteTime": {
          "start_time": "2023-09-24T02:12:33.678726+00:00",
          "end_time": "2023-09-24T02:12:33.866470+00:00"
        },
        "datalink": {
          "3d278407-0183-4c48-a736-55058b1bb980": {
            "dataframe_info": {
              "default_index_used": false,
              "orig_size_bytes": 80,
              "orig_num_rows": 5,
              "orig_num_cols": 1,
              "truncated_string_columns": [],
              "truncated_size_bytes": 80,
              "truncated_num_rows": 5,
              "truncated_num_cols": 1
            },
            "dx_settings": {
              "LOG_LEVEL": 30,
              "DEV_MODE": false,
              "DISPLAY_MAX_ROWS": 50000,
              "DISPLAY_MAX_COLUMNS": 100,
              "HTML_TABLE_SCHEMA": false,
              "MAX_RENDER_SIZE_BYTES": 104857600,
              "MAX_STRING_LENGTH": 250,
              "SAMPLING_FACTOR": 0.1,
              "DISPLAY_MODE": "simple",
              "SAMPLING_METHOD": "random",
              "COLUMN_SAMPLING_METHOD": "outer",
              "ROW_SAMPLING_METHOD": "random",
              "RANDOM_STATE": 12648430,
              "RESET_INDEX_VALUES": false,
              "FLATTEN_INDEX_VALUES": false,
              "FLATTEN_COLUMN_VALUES": true,
              "STRINGIFY_INDEX_VALUES": false,
              "STRINGIFY_COLUMN_VALUES": true,
              "ENABLE_DATALINK": true,
              "ENABLE_ASSIGNMENT": true,
              "NUM_PAST_SAMPLES_TRACKED": 3,
              "DB_LOCATION": ":memory:",
              "GENERATE_DEX_METADATA": false,
              "ALLOW_NOTEABLE_ATTRS": true
            },
            "display_id": "3d278407-0183-4c48-a736-55058b1bb980",
            "applied_filters": [],
            "sample_history": [],
            "sampling_time": "2023-09-24T02:12:33.703090",
            "variable_name": "series_data",
            "user_variable_name": "series_data"
          }
        }
      },
      "id": "1d13e182-59d5-4f48-887d-99c48417c747"
    },
    {
      "cell_type": "code",
      "source": [
        "# Sample Code: DataFrame\n",
        "data = {\n",
        "    'Name': ['Alice', 'Bob', 'Charlie', 'David'],\n",
        "    'Age': [25, 30, 35, 40],\n",
        "    'Occupation': ['Engineer', 'Doctor', 'Teacher', 'Lawyer']\n",
        "}\n",
        "df = pd.DataFrame(data)\n",
        "df"
      ],
      "outputs": [
        {
          "output_type": "display_data",
          "data": {
            "application/vnd.dataresource+json": {
              "schema": {
                "fields": [
                  {
                    "name": "index",
                    "type": "integer"
                  },
                  {
                    "name": "Name",
                    "type": "string"
                  },
                  {
                    "name": "Age",
                    "type": "integer"
                  },
                  {
                    "name": "Occupation",
                    "type": "string"
                  }
                ],
                "primaryKey": [
                  "index"
                ],
                "pandas_version": "1.4.0"
              },
              "data": [
                {
                  "index": 0,
                  "Name": "Alice",
                  "Age": 25,
                  "Occupation": "Engineer"
                },
                {
                  "index": 1,
                  "Name": "Bob",
                  "Age": 30,
                  "Occupation": "Doctor"
                },
                {
                  "index": 2,
                  "Name": "Charlie",
                  "Age": 35,
                  "Occupation": "Teacher"
                },
                {
                  "index": 3,
                  "Name": "David",
                  "Age": 40,
                  "Occupation": "Lawyer"
                }
              ],
              "datalink": {
                "display_id": "480bcc7c-2795-4096-b1ba-23d9f59af02c"
              }
            }
          },
          "metadata": {
            "application/vnd.dataresource+json": {
              "datalink": {
                "dataframe_info": {
                  "default_index_used": true,
                  "orig_size_bytes": 128,
                  "orig_num_rows": 4,
                  "orig_num_cols": 3,
                  "truncated_string_columns": [],
                  "truncated_size_bytes": 128,
                  "truncated_num_rows": 4,
                  "truncated_num_cols": 3
                },
                "dx_settings": {
                  "NUM_PAST_SAMPLES_TRACKED": 3,
                  "ENABLE_DATALINK": true,
                  "DISPLAY_MODE": "simple",
                  "GENERATE_DEX_METADATA": false,
                  "STRINGIFY_INDEX_VALUES": false,
                  "ALLOW_NOTEABLE_ATTRS": true,
                  "DISPLAY_MAX_COLUMNS": 100,
                  "HTML_TABLE_SCHEMA": false,
                  "SAMPLING_FACTOR": 0.1,
                  "LOG_LEVEL": 30,
                  "ENABLE_ASSIGNMENT": true,
                  "FLATTEN_INDEX_VALUES": false,
                  "DEV_MODE": false,
                  "COLUMN_SAMPLING_METHOD": "outer",
                  "FLATTEN_COLUMN_VALUES": true,
                  "DISPLAY_MAX_ROWS": 50000,
                  "ROW_SAMPLING_METHOD": "random",
                  "RANDOM_STATE": 12648430,
                  "DB_LOCATION": ":memory:",
                  "STRINGIFY_COLUMN_VALUES": true,
                  "SAMPLING_METHOD": "random",
                  "MAX_STRING_LENGTH": 250,
                  "MAX_RENDER_SIZE_BYTES": 104857600,
                  "RESET_INDEX_VALUES": false
                },
                "display_id": "480bcc7c-2795-4096-b1ba-23d9f59af02c",
                "applied_filters": [],
                "sample_history": [],
                "sampling_time": "2023-09-24T02:12:41.994530",
                "variable_name": "df",
                "user_variable_name": "df"
              },
              "display_id": "480bcc7c-2795-4096-b1ba-23d9f59af02c"
            }
          }
        }
      ],
      "execution_count": null,
      "metadata": {
        "noteable": {
          "cell_type": "code"
        },
        "ExecuteTime": {
          "start_time": "2023-09-24T02:12:41.968888+00:00",
          "end_time": "2023-09-24T02:12:42.154032+00:00"
        },
        "datalink": {
          "480bcc7c-2795-4096-b1ba-23d9f59af02c": {
            "dataframe_info": {
              "default_index_used": true,
              "orig_size_bytes": 128,
              "orig_num_rows": 4,
              "orig_num_cols": 3,
              "truncated_string_columns": [],
              "truncated_size_bytes": 128,
              "truncated_num_rows": 4,
              "truncated_num_cols": 3
            },
            "dx_settings": {
              "LOG_LEVEL": 30,
              "DEV_MODE": false,
              "DISPLAY_MAX_ROWS": 50000,
              "DISPLAY_MAX_COLUMNS": 100,
              "HTML_TABLE_SCHEMA": false,
              "MAX_RENDER_SIZE_BYTES": 104857600,
              "MAX_STRING_LENGTH": 250,
              "SAMPLING_FACTOR": 0.1,
              "DISPLAY_MODE": "simple",
              "SAMPLING_METHOD": "random",
              "COLUMN_SAMPLING_METHOD": "outer",
              "ROW_SAMPLING_METHOD": "random",
              "RANDOM_STATE": 12648430,
              "RESET_INDEX_VALUES": false,
              "FLATTEN_INDEX_VALUES": false,
              "FLATTEN_COLUMN_VALUES": true,
              "STRINGIFY_INDEX_VALUES": false,
              "STRINGIFY_COLUMN_VALUES": true,
              "ENABLE_DATALINK": true,
              "ENABLE_ASSIGNMENT": true,
              "NUM_PAST_SAMPLES_TRACKED": 3,
              "DB_LOCATION": ":memory:",
              "GENERATE_DEX_METADATA": false,
              "ALLOW_NOTEABLE_ATTRS": true
            },
            "display_id": "480bcc7c-2795-4096-b1ba-23d9f59af02c",
            "applied_filters": [],
            "sample_history": [],
            "sampling_time": "2023-09-24T02:12:41.994530",
            "variable_name": "df",
            "user_variable_name": "df"
          }
        }
      },
      "id": "75c0eb99-7ce9-44d7-a43c-69f96abf761c"
    },
    {
      "cell_type": "markdown",
      "source": [
        "### Exercise 1: Series and DataFrame\n",
        "\n",
        "1. Create a `Series` object with the values `[10, 20, 30, 40, 50]` and indices as the first five letters of the alphabet.\n",
        "2. Create a `DataFrame` from the dictionary:\n",
        "   ```python\n",
        "   data = {\n",
        "       'Country': ['USA', 'Canada', 'Mexico', 'Brazil'],\n",
        "       'Capital': ['Washington D.C.', 'Ottawa', 'Mexico City', 'Brasilia'],\n",
        "       'Population': [328, 37, 126, 211]  # in millions\n",
        "   }\n",
        "   ```"
      ],
      "metadata": {
        "noteable": {
          "cell_type": "markdown"
        }
      },
      "id": "e29a3c19-f295-4934-972c-98d1bd9a7c63"
    },
    {
      "cell_type": "markdown",
      "source": [
        "### Answer Key for Exercise 1: Series and DataFrame\n",
        "\n",
        "1. Creating a `Series` object:\n",
        "   ```python\n",
        "   series_obj = pd.Series([10, 20, 30, 40, 50], index=['a', 'b', 'c', 'd', 'e'])\n",
        "   series_obj\n",
        "   ```\n",
        "\n",
        "2. Creating a `DataFrame` from the dictionary:\n",
        "   ```python\n",
        "   data_dict = {\n",
        "       'Country': ['USA', 'Canada', 'Mexico', 'Brazil'],\n",
        "       'Capital': ['Washington D.C.', 'Ottawa', 'Mexico City', 'Brasilia'],\n",
        "       'Population': [328, 37, 126, 211]\n",
        "   }\n",
        "   df_data = pd.DataFrame(data_dict)\n",
        "   df_data\n",
        "   ```"
      ],
      "metadata": {
        "noteable": {
          "cell_type": "markdown"
        }
      },
      "id": "976a03fa-9c9a-4165-89ff-1ee518c1fd2c"
    },
    {
      "cell_type": "markdown",
      "source": [
        "## 2. Basic Operations with DataFrames\n",
        "\n",
        "### A. Indexing and Selecting Data\n",
        "\n",
        "pandas provides various methods to have purely label-based indexing. When slicing, the start bound is also included. Integers are valid labels, but they refer to the label and not the position.\n",
        "\n",
        "### B. Filtering Data\n",
        "\n",
        "You can use boolean indexing to filter data in a DataFrame. This involves using a condition to return rows that meet certain criteria.\n",
        "\n",
        "### C. Adding and Dropping Columns\n",
        "\n",
        "Columns can be added to a DataFrame by simply defining a new column, and they can be dropped using the `drop` method."
      ],
      "metadata": {
        "noteable": {
          "cell_type": "markdown"
        }
      },
      "id": "386405f6-c414-437a-9686-0df1e6dcc933"
    },
    {
      "cell_type": "code",
      "source": [
        "# Sample Code: Indexing and Selecting Data\n",
        "\n",
        "# Selecting the 'Name' column\n",
        "name_column = df['Name']\n",
        "\n",
        "# Selecting the first three rows\n",
        "first_three_rows = df.iloc[:3]\n",
        "\n",
        "name_column, first_three_rows"
      ],
      "outputs": [
        {
          "output_type": "execute_result",
          "execution_count": null,
          "data": {
            "text/plain": "(0      Alice\n 1        Bob\n 2    Charlie\n 3      David\n Name: Name, dtype: object,\n       Name  Age Occupation\n 0    Alice   25   Engineer\n 1      Bob   30     Doctor\n 2  Charlie   35    Teacher)"
          },
          "metadata": {}
        }
      ],
      "execution_count": null,
      "metadata": {
        "noteable": {
          "cell_type": "code"
        },
        "ExecuteTime": {
          "start_time": "2023-09-24T02:13:00.304801+00:00",
          "end_time": "2023-09-24T02:13:00.467245+00:00"
        }
      },
      "id": "e10c77db-e144-4ec0-ae2e-1c7663c3aa61"
    },
    {
      "cell_type": "code",
      "source": [
        "# Sample Code: Filtering Data\n",
        "\n",
        "# Filtering rows where Age is greater than 30\n",
        "filtered_data = df[df['Age'] > 30]\n",
        "\n",
        "# Sample Code: Adding and Dropping Columns\n",
        "\n",
        "# Adding a new column 'Salary'\n",
        "df['Salary'] = [70000, 80000, 75000, 85000]\n",
        "\n",
        "# Dropping the 'Salary' column\n",
        "df_dropped = df.drop(columns=['Salary'])\n",
        "\n",
        "filtered_data, df, df_dropped"
      ],
      "outputs": [
        {
          "output_type": "execute_result",
          "execution_count": null,
          "data": {
            "text/plain": "(      Name  Age Occupation\n 2  Charlie   35    Teacher\n 3    David   40     Lawyer,\n       Name  Age Occupation  Salary\n 0    Alice   25   Engineer   70000\n 1      Bob   30     Doctor   80000\n 2  Charlie   35    Teacher   75000\n 3    David   40     Lawyer   85000,\n       Name  Age Occupation\n 0    Alice   25   Engineer\n 1      Bob   30     Doctor\n 2  Charlie   35    Teacher\n 3    David   40     Lawyer)"
          },
          "metadata": {}
        }
      ],
      "execution_count": null,
      "metadata": {
        "noteable": {
          "cell_type": "code"
        },
        "ExecuteTime": {
          "start_time": "2023-09-24T02:13:05.065296+00:00",
          "end_time": "2023-09-24T02:13:05.229227+00:00"
        }
      },
      "id": "e7530630-8c1f-47cf-b813-ef5317528383"
    }
  ],
  "metadata": {
    "noteable-chatgpt": {
      "create_notebook": {
        "openai_conversation_id": "37d2529f-3cae-5f96-9897-52a3d82fb436",
        "openai_ephemeral_user_id": "adffce88-c270-5fe0-8dc7-e1aa59614ac2",
        "openai_subdivision1_iso_code": "PH-00"
      }
    },
    "kernel_info": {
      "name": "python3"
    },
    "kernelspec": {
      "display_name": "Python 3.9",
      "language": "python",
      "name": "python3"
    },
    "selected_hardware_size": "small",
    "noteable": {
      "last_delta_id": "6a3e3522-7756-46b0-a122-5fa00c09d908"
    },
    "nteract": {
      "version": "noteable@2.9.0"
    }
  },
  "nbformat": 4,
  "nbformat_minor": 5
}